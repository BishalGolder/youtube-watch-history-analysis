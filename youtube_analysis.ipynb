{
 "cells": [
  {
   "cell_type": "code",
   "execution_count": null,
   "id": "6b526aa8",
   "metadata": {},
   "outputs": [],
   "source": [
    "import pandas as pd\n",
    "import json\n",
    "import matplotlib.pyplot as plt\n",
    "import seaborn as sns"
   ]
  },
  {
   "cell_type": "code",
   "execution_count": null,
   "id": "44d5306c",
   "metadata": {},
   "outputs": [],
   "source": [
    "# Load JSON data\n",
    "with open('data/watch-history.json', 'r', encoding='utf-8') as f:\n",
    "    data = json.load(f)\n",
    "\n",
    "# Convert to DataFrame\n",
    "df = pd.json_normalize(data)\n",
    "\n",
    "# Show the first few rows\n",
    "df.head()"
   ]
  },
  {
   "cell_type": "code",
   "execution_count": null,
   "id": "696338ff",
   "metadata": {},
   "outputs": [],
   "source": [
    "df.columns"
   ]
  },
  {
   "cell_type": "code",
   "execution_count": null,
   "id": "1b098e19",
   "metadata": {},
   "outputs": [],
   "source": [
    "#Change the time format \n",
    "df['time'] = pd.to_datetime(df['time'], format='ISO8601', errors='coerce', utc=True)\n"
   ]
  },
  {
   "cell_type": "code",
   "execution_count": null,
   "id": "af084f2b",
   "metadata": {},
   "outputs": [],
   "source": [
    "# Extract useful time features\n",
    "df['year'] = df['time'].dt.year\n",
    "df['month'] = df['time'].dt.month\n",
    "df['day'] = df['time'].dt.day\n",
    "df['weekday'] = df['time'].dt.day_name()   # Saturday, Sunday,....etc\n",
    "df['hour'] = df['time'].dt.hour"
   ]
  },
  {
   "cell_type": "code",
   "execution_count": null,
   "id": "ba449f6b",
   "metadata": {},
   "outputs": [],
   "source": [
    "#visualization of watch hours during the day\n",
    "watch_by_hour = df['hour'].value_counts().sort_index()\n",
    "\n",
    "plt.figure(figsize=(10,5))\n",
    "plt.bar(watch_by_hour.index, watch_by_hour.values, align='center', width=0.7)\n",
    "plt.xticks(range(24))\n",
    "plt.xlabel('Hour (24-hour)')\n",
    "plt.ylabel('Number of Videos Watched')\n",
    "plt.title('YouTube Watch Activity by Hour of Day')\n",
    "plt.show()\n"
   ]
  },
  {
   "cell_type": "code",
   "execution_count": null,
   "id": "f3563f1e",
   "metadata": {},
   "outputs": [],
   "source": [
    "#count of watched videos on weekdays(sorted)\n",
    "watch_by_weekday = df['weekday'].value_counts().reindex([\n",
    "    'Monday', 'Tuesday', 'Wednesday', 'Thursday', 'Friday', 'Saturday', 'Sunday'])\n",
    "\n",
    "print(watch_by_weekday)"
   ]
  },
  {
   "cell_type": "code",
   "execution_count": null,
   "id": "810ada2d",
   "metadata": {},
   "outputs": [],
   "source": [
    "#Visualization of watch activity by weekday\n",
    "df['weekday'] = df['time'].dt.day_name()\n",
    "weekday_order = ['Monday', 'Tuesday', 'Wednesday', 'Thursday', 'Friday', 'Saturday', 'Sunday']\n",
    "watch_by_weekday = df['weekday'].value_counts().reindex(weekday_order)\n",
    "\n",
    "# Plot using seaborn with categorical x-axis\n",
    "plt.figure(figsize=(10,5))\n",
    "sns.barplot(x=watch_by_weekday.index, y=watch_by_weekday.values)\n",
    "plt.xlabel('Day of Week')\n",
    "plt.ylabel('Number of Videos Watched')\n",
    "plt.title('YouTube Watch Activity by Weekday')\n",
    "plt.show()\n"
   ]
  },
  {
   "cell_type": "code",
   "execution_count": null,
   "id": "26596504",
   "metadata": {},
   "outputs": [],
   "source": [
    "#Heatmap of weekday and hour\n",
    "heatmap_data = df.groupby(['weekday', 'hour']).size().unstack(fill_value=0)\n",
    "\n",
    "# Reorder weekdays\n",
    "weekday_order = ['Monday', 'Tuesday', 'Wednesday', 'Thursday', 'Friday', 'Saturday', 'Sunday']\n",
    "heatmap_data = heatmap_data.reindex(weekday_order)\n",
    "\n",
    "plt.figure(figsize=(12,6))\n",
    "sns.heatmap(heatmap_data, cmap='YlGnBu')\n",
    "plt.title('Watch Activity Heatmap (Weekday vs Hour)')\n",
    "plt.xlabel('Hour of Day')\n",
    "plt.ylabel('Day of Week')\n",
    "plt.show()\n"
   ]
  },
  {
   "cell_type": "code",
   "execution_count": null,
   "id": "5cfd747e",
   "metadata": {},
   "outputs": [],
   "source": [
    "# Top 10 channels that you watch\n",
    "def get_channel(subtitles):\n",
    "    if isinstance(subtitles, list) and len(subtitles) > 0:\n",
    "        return subtitles[0].get('name', None)\n",
    "    else:\n",
    "        return None\n",
    "\n",
    "df['channel'] = df['subtitles'].apply(get_channel)\n",
    "\n",
    "# Now count top channels\n",
    "top_channels = df['channel'].value_counts().head(10)\n",
    "\n",
    "# Plot top channels\n",
    "plt.figure(figsize=(12,6))\n",
    "sns.barplot(x=top_channels.values, y=top_channels.index)\n",
    "plt.xlabel('Number of Videos Watched')\n",
    "plt.ylabel('Channel')\n",
    "plt.title('Top 10 Most Watched YouTube Channels')\n",
    "plt.show()\n"
   ]
  },
  {
   "cell_type": "code",
   "execution_count": null,
   "id": "3b72d28e",
   "metadata": {},
   "outputs": [],
   "source": [
    "# Total number of videos watched\n",
    "total_videos = len(df)\n",
    "print(f\"Total videos watched: {total_videos}\")\n",
    "\n",
    "# Date range of watch history\n",
    "start_date = df['time'].min()\n",
    "end_date = df['time'].max()\n",
    "print(f\"Watch history from {start_date.date()} to {end_date.date()}\")\n",
    "\n",
    "# Average videos watched per day\n",
    "videos_per_day = df.groupby(df['time'].dt.date).size()\n",
    "avg_per_day = videos_per_day.mean()\n",
    "print(f\"Average videos watched per day: {avg_per_day:.2f}\")"
   ]
  },
  {
   "cell_type": "code",
   "execution_count": null,
   "id": "58303916",
   "metadata": {},
   "outputs": [],
   "source": [
    "#monthly count of watched videos\n",
    "monthly_counts = df.groupby(df['time'].dt.to_period('M')).size()\n",
    "\n",
    "monthly_counts.index = monthly_counts.index.to_timestamp()\n",
    "\n",
    "plt.figure(figsize=(12,6))\n",
    "plt.plot(monthly_counts.index, monthly_counts.values, marker='o')\n",
    "plt.title('YouTube Videos Watched Over Time (Monthly)')\n",
    "plt.xlabel('Month')\n",
    "plt.ylabel('Number of Videos Watched')\n",
    "plt.grid(True)\n",
    "plt.show()\n"
   ]
  },
  {
   "cell_type": "code",
   "execution_count": null,
   "id": "da6d280c",
   "metadata": {},
   "outputs": [],
   "source": [
    "# Average of watched videos in one go\n",
    "\n",
    "# Sort by time\n",
    "df_sorted = df.sort_values('time').reset_index(drop=True)\n",
    "\n",
    "# Calculate time difference between consecutive videos (in minutes)\n",
    "df_sorted['time_diff'] = df_sorted['time'].diff().dt.total_seconds().div(60)\n",
    "\n",
    "# Define a new session if gap is more than 30 minutes\n",
    "df_sorted['new_session'] = (df_sorted['time_diff'] > 30).cumsum()\n",
    "\n",
    "# Session lengths (number of videos per session)\n",
    "session_lengths = df_sorted.groupby('new_session').size()\n",
    "\n",
    "print(f\"Average videos per session: {session_lengths.mean():.2f}\")\n",
    "print(f\"Number of sessions: {session_lengths.count()}\")\n"
   ]
  },
  {
   "cell_type": "code",
   "execution_count": null,
   "id": "81727aec",
   "metadata": {},
   "outputs": [],
   "source": [
    "# watch count by hours\n",
    "hourly_counts = df.groupby('hour').size()\n",
    "weekday_counts = df['weekday'].value_counts().reindex([\n",
    "    'Monday', 'Tuesday', 'Wednesday', 'Thursday', 'Friday', 'Saturday', 'Sunday'])\n",
    "\n",
    "print(\"Watch counts by hour:\")\n",
    "print(hourly_counts)\n",
    "\n",
    "print(\"\\nWatch counts by weekday:\")\n",
    "print(weekday_counts)\n"
   ]
  },
  {
   "cell_type": "code",
   "execution_count": null,
   "id": "1bb42c86",
   "metadata": {},
   "outputs": [],
   "source": [
    "def busiest_watch_times(df):\n",
    "    # Aggregate watch counts by hour and weekday\n",
    "    hourly_counts = df.groupby('hour').size()\n",
    "    weekday_order = ['Monday', 'Tuesday', 'Wednesday', 'Thursday', 'Friday', 'Saturday', 'Sunday']\n",
    "    weekday_counts = df['weekday'].value_counts().reindex(weekday_order)\n",
    "\n",
    "    busiest_hour = hourly_counts.idxmax()\n",
    "    busiest_day = weekday_counts.idxmax()\n",
    "\n",
    "    print(f\"Your busiest watch hour is: {busiest_hour}:00 - {busiest_hour+1}:00\")\n",
    "    print(f\"Your busiest watch day is: {busiest_day}\")\n",
    "    return busiest_hour, busiest_day\n",
    "\n",
    "def suggest_watch_times(busiest_hour, busiest_day):\n",
    "    print(f\"Based on your history, you are most active on {busiest_day}s around {busiest_hour}:00.\")\n",
    "    print(\"Consider scheduling your study or leisure watching around these times!\")\n",
    "\n",
    "def plot_moving_average(df, window=7):\n",
    "    daily_counts = df.set_index('time').resample('D').size()\n",
    "    moving_avg = daily_counts.rolling(window=window).mean()\n",
    "\n",
    "    plt.figure(figsize=(12,6))\n",
    "    plt.plot(daily_counts.index, daily_counts.values, label='Daily Counts')\n",
    "    plt.plot(moving_avg.index, moving_avg.values, label=f'{window}-Day Moving Average', linewidth=3)\n",
    "    plt.title('Daily Watch Counts with Moving Average')\n",
    "    plt.xlabel('Date')\n",
    "    plt.ylabel('Number of Videos Watched')\n",
    "    plt.legend()\n",
    "    plt.show()\n",
    "\n",
    "def top_channels_and_videos(df, top_n=5):\n",
    "    top_channels = df['channel'].value_counts().head(top_n)\n",
    "    top_videos = df['title'].value_counts().head(top_n)\n",
    "\n",
    "    print(f\"Top {top_n} Channels You Watch:\")\n",
    "    print(top_channels)\n",
    "    print(\"\\nTop {top_n} Videos You Watch:\")\n",
    "    print(top_videos)\n",
    "    \n",
    "    return top_channels, top_videos\n",
    "\n"
   ]
  },
  {
   "cell_type": "code",
   "execution_count": null,
   "id": "5b4f5075",
   "metadata": {},
   "outputs": [],
   "source": [
    "# 1. Find busiest watch times\n",
    "hour, day = busiest_watch_times(df)\n"
   ]
  },
  {
   "cell_type": "code",
   "execution_count": null,
   "id": "ea4d3aa1",
   "metadata": {},
   "outputs": [],
   "source": [
    "# 2. Suggest watch times\n",
    "suggest_watch_times(hour, day)"
   ]
  },
  {
   "cell_type": "code",
   "execution_count": null,
   "id": "202f08f8",
   "metadata": {},
   "outputs": [],
   "source": [
    "# 3. Plot moving average of daily watches\n",
    "plot_moving_average(df)"
   ]
  },
  {
   "cell_type": "code",
   "execution_count": null,
   "id": "94fd2909",
   "metadata": {},
   "outputs": [],
   "source": [
    "# 4. Print top channels and videos\n",
    "top_channels, top_videos = top_channels_and_videos(df)"
   ]
  }
 ],
 "metadata": {
  "kernelspec": {
   "display_name": "Python 3",
   "language": "python",
   "name": "python3"
  },
  "language_info": {
   "codemirror_mode": {
    "name": "ipython",
    "version": 3
   },
   "file_extension": ".py",
   "mimetype": "text/x-python",
   "name": "python",
   "nbconvert_exporter": "python",
   "pygments_lexer": "ipython3",
   "version": "3.13.5"
  }
 },
 "nbformat": 4,
 "nbformat_minor": 5
}
